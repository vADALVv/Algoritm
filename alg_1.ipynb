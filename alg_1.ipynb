{
  "nbformat": 4,
  "nbformat_minor": 0,
  "metadata": {
    "colab": {
      "provenance": []
    },
    "kernelspec": {
      "name": "python3",
      "display_name": "Python 3"
    },
    "language_info": {
      "name": "python"
    }
  },
  "cells": [
    {
      "cell_type": "code",
      "source": [
        "import numpy as np\n",
        "import math as m"
      ],
      "metadata": {
        "id": "XdIM0a6P9x5F"
      },
      "execution_count": null,
      "outputs": []
    },
    {
      "cell_type": "markdown",
      "source": [
        "2. Даны три натуральных числа. Возможно ли построить треугольник с такими сторонами. Если это возможно, выведите строку YES, иначе выведите строку NO. Треугольник — это три точки, не лежащие на одной прямой."
      ],
      "metadata": {
        "id": "nsJ5XN_n75VN"
      }
    },
    {
      "cell_type": "code",
      "source": [
        "def triangle(a,b,c):\n",
        "  if a + b > c and a + c > b and b + c > a:\n",
        "    print('YES')\n",
        "  else:\n",
        "    print ('NO')"
      ],
      "metadata": {
        "id": "RPXbYuCY77M_"
      },
      "execution_count": null,
      "outputs": []
    },
    {
      "cell_type": "markdown",
      "source": [
        "3. Решите в целых числах уравнение:\n",
        "\n",
        "(a*x + b)^0.5 = c\n",
        "\n",
        "a*x = c^2 - b\n",
        "\n",
        "OOФ:\n",
        "a*x + b >= 0\n",
        "x >= -b/a\n",
        "\n",
        " a, b, c -- данные целые числа. Найти все решения или сообщить, что решений в целых числах нет."
      ],
      "metadata": {
        "id": "HBmubiQO8o_m"
      }
    },
    {
      "cell_type": "code",
      "source": [
        "def solution(a, b, c):\n",
        "\n",
        "  if a == b == c == 0:\n",
        "    print('x - any number')\n",
        "  elif c >= 0 and ((c**2 - b) / a) > (-b/a):\n",
        "    x = (c**2 - b) / a\n",
        "\n",
        "    print('answer: x = ', x)\n",
        "\n",
        "  else:\n",
        "    print('No solution')"
      ],
      "metadata": {
        "id": "-P3kkuSw8wW8"
      },
      "execution_count": null,
      "outputs": []
    },
    {
      "cell_type": "code",
      "source": [
        "solution(1,9,4)"
      ],
      "metadata": {
        "colab": {
          "base_uri": "https://localhost:8080/"
        },
        "id": "m_6xydE5CflM",
        "outputId": "953df076-656a-41d3-cfc7-11ae3345b62c"
      },
      "execution_count": null,
      "outputs": [
        {
          "output_type": "stream",
          "name": "stdout",
          "text": [
            "answer: x =  7.0\n"
          ]
        }
      ]
    },
    {
      "cell_type": "markdown",
      "source": [
        "4. Бригада скорой помощи выехала по вызову в один из отделенных районов. К сожалению, когда диспетчер получил вызов, он успел записать только адрес дома и номер квартиры K1, а затем связь прервалась. Однако он вспомнил, что по этому же адресу дома некоторое время назад скорая помощь выезжала в квартиру K2, которая расположена в подъезда P2 на этаже N2. Известно, что в доме M этажей и количество квартир на каждой лестничной площадке одинаково. Напишите программу, которая вычилсяет номер подъезда P1 и номер этажа N1 квартиры K1."
      ],
      "metadata": {
        "id": "mwe937pzB-lM"
      }
    },
    {
      "cell_type": "code",
      "source": [
        "def find_number(K1, M, K2, P2, N2):\n",
        "  if K2 == P2 and P2 !=1: print('-1 -1')\n",
        "  elif M == K2 == P2 == N2 :  return 0, M\n",
        "  else:\n",
        "    x = m.floor(K2 / (M*(P2 - 1) + (N2 - 1)))\n",
        "    P1 = (K1 // (M*x)) + 1\n",
        "    N1 = K1 // x - (P1-1)*M + 1\n",
        "    return P1, N1\n"
      ],
      "metadata": {
        "id": "NXea0d3-IJuX"
      },
      "execution_count": null,
      "outputs": []
    },
    {
      "cell_type": "code",
      "source": [
        "# find_number(89, 20, 41, 1, 11)\n",
        "# find_number(11, 1, 1, 1, 1)\n",
        "# find_number(3, 2, 2, 2, 1)"
      ],
      "metadata": {
        "id": "_A_CO2jdTjZW"
      },
      "execution_count": null,
      "outputs": []
    },
    {
      "cell_type": "markdown",
      "source": [
        "5. Имеется N кг металлического сплава. Из него изготавливают заготовки массой K кг каждая. После этого из каждой заготовки вытачиваются детали массой M кг каждая (из каждой заготовки вытачивают максимально возможное количество деталей). Если от заготовок после этого что-то остается, то этот материал возвращают к началу производственного цикла и сплавляют с тем, что осталось при изготовлении заготовок. Если того сплава, который получился, достаточно для изготовления хотя бы одной заготовки, то из него снова изготавливают заготовки, из них – детали и т.д. Напишите программу, которая вычислит, какое количество деталей может быть получено по этой технологии из имеющихся исходно N кг сплава"
      ],
      "metadata": {
        "id": "tE7AdATzUrt2"
      }
    },
    {
      "cell_type": "code",
      "source": [
        "def metal_lego(N, K, M):\n",
        "  result = 0\n",
        "  if M <= K:\n",
        "      while N >= K:\n",
        "        Nk = int(N / K)\n",
        "        Rk = N % K\n",
        "        Nm = int(K / M)\n",
        "        Rm = K % M\n",
        "        result += Nk * Nm\n",
        "        N = Rk + (Rm * Nk)\n",
        "\n",
        "  return result\n",
        "\n"
      ],
      "metadata": {
        "id": "i2aI60lVUtjc"
      },
      "execution_count": null,
      "outputs": []
    },
    {
      "cell_type": "code",
      "source": [
        "# metal_lego(10, 5, 2)\n",
        "# metal_lego(13, 5, 3)\n",
        "# metal_lego(14, 5, 3)"
      ],
      "metadata": {
        "colab": {
          "base_uri": "https://localhost:8080/"
        },
        "id": "FCdf4u37Xrk3",
        "outputId": "a347f07b-945b-4441-8d0d-75795079e492"
      },
      "execution_count": null,
      "outputs": [
        {
          "output_type": "execute_result",
          "data": {
            "text/plain": [
              "4"
            ]
          },
          "metadata": {},
          "execution_count": 135
        }
      ]
    },
    {
      "cell_type": "markdown",
      "source": [
        "6. За многие годы заточения узник замка Иф проделал в стене прямоугольное отверстие размером D × E. Замок Иф сложен из кирпичей, размером A × B × C. Определите, сможет ли узник выбрасывать кирпичи в море через это отверстие, если стороны кирпича должны быть параллельны сторонам отверстия."
      ],
      "metadata": {
        "id": "X0W2nzhfI0KG"
      }
    },
    {
      "cell_type": "code",
      "source": [
        "def escape(a, b, c, d, e):\n",
        "  if a <= d and b <= e or a <= e and b <= d:\n",
        "      print(\"YES\")\n",
        "  elif c <= d and b <= e or c <= e and b <= d:\n",
        "      print(\"YES\")\n",
        "  elif c <= d and a <= e or c <= e and a <= d:\n",
        "      print(\"YES\")\n",
        "  else:\n",
        "      print(\"NO\")"
      ],
      "metadata": {
        "id": "j2Fd4b1_I5ZO"
      },
      "execution_count": null,
      "outputs": []
    },
    {
      "cell_type": "code",
      "source": [
        "escape(1, 1, 1, 1, 1)"
      ],
      "metadata": {
        "colab": {
          "base_uri": "https://localhost:8080/"
        },
        "id": "PvhwR6hnNQC0",
        "outputId": "8943c246-f109-4e3e-d75c-3aa45e19a58c"
      },
      "execution_count": null,
      "outputs": [
        {
          "output_type": "stream",
          "name": "stdout",
          "text": [
            "YES\n"
          ]
        }
      ]
    },
    {
      "cell_type": "markdown",
      "source": [
        "7. Даны числа a, b, c d, e, f.\n",
        "Решить систему линейных уравнений:\n",
        "\n",
        "a*x + b*y = e\n",
        "\n",
        "c*x + d*y = f\n",
        "\n",
        "Учесть все возможные случаи."
      ],
      "metadata": {
        "id": "7ChVR4stfXdB"
      }
    },
    {
      "cell_type": "code",
      "source": [
        "def solution(a, b, c, d, e, f):\n",
        "  A = np.array([[a, b],[c, d]])\n",
        "  B = np.array([e, f])\n",
        "  C = np.array([[a, b, e],[c, d, f]])\n",
        "  #теорема Кронекера-Капелли\n",
        "  if np.linalg.det(A) == 0 or np.linalg.matrix_rank(A) == np.linalg.matrix_rank(C):\n",
        "      print('Бесконечно много решений')\n",
        "  else:\n",
        "      X = np.linalg.solve(A, B)\n",
        "      print('Решение системы будет иметь выражено через х1 и х2 соответственно: ', X[0], X[1])"
      ],
      "metadata": {
        "id": "IPIzNj1BfulB"
      },
      "execution_count": 138,
      "outputs": []
    }
  ]
}