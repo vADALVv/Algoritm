{
  "nbformat": 4,
  "nbformat_minor": 0,
  "metadata": {
    "colab": {
      "provenance": []
    },
    "kernelspec": {
      "name": "python3",
      "display_name": "Python 3"
    },
    "language_info": {
      "name": "python"
    }
  },
  "cells": [
    {
      "cell_type": "markdown",
      "source": [
        "1. На вход массив массивов вида [[start_1, end_1], ..., [start_n, end_n]]. Найти максимальную сумму end_i - start_i такую, что отрезки не пересекаются\n",
        "Реализовать произвольный жадный алгоритм для задачи о переговорках (можно несколько). Покрыть тест-кейсами на успешную/не успешную работу алгоритма.\n",
        "\n",
        "3 балла: успешное решение жадным алгоритмом\n",
        "\n",
        "2 балла: решение покрытое тест-кейсами для успешной и не успешной работы\n",
        "\n",
        "1 балл: решение просто с какими-то тестами"
      ],
      "metadata": {
        "id": "ptM2s2TPzNEC"
      }
    },
    {
      "cell_type": "code",
      "source": [
        "def greedy_negotiations(mitings_times):\n",
        "    approved_time = []\n",
        "    mitings_times = sorted(mitings_times, key=lambda x: x[1])\n",
        "    approved_time.append(mitings_times.pop(0))\n",
        "    for miting in mitings_times:\n",
        "        if miting[0] >= approved_time[-1][1]:\n",
        "            approved_time.append(miting)\n",
        "    return approved_time"
      ],
      "metadata": {
        "id": "L5QenWHtkS_U"
      },
      "execution_count": 3,
      "outputs": []
    },
    {
      "cell_type": "code",
      "source": [
        "s = {(5, 2), (4, 10), (3, 1), (4, 5), (2, 2)}"
      ],
      "metadata": {
        "id": "_y4Iaj41CZbn"
      },
      "execution_count": 41,
      "outputs": []
    },
    {
      "cell_type": "code",
      "source": [
        "greedy_negotiations(s)"
      ],
      "metadata": {
        "colab": {
          "base_uri": "https://localhost:8080/"
        },
        "id": "eZC48KmeCcrC",
        "outputId": "a4963c1b-31df-4fe3-8308-788b75651804"
      },
      "execution_count": 40,
      "outputs": [
        {
          "output_type": "execute_result",
          "data": {
            "text/plain": [
              "[(3, 1), (2, 2), (5, 2), (4, 5)]"
            ]
          },
          "metadata": {},
          "execution_count": 40
        }
      ]
    },
    {
      "cell_type": "markdown",
      "source": [
        "2. Задача о камнях (Динамическое программирование)"
      ],
      "metadata": {
        "id": "8Hz3iT9Q-oeC"
      }
    },
    {
      "cell_type": "code",
      "source": [
        "def rocks_game(n, m):\n",
        "  if n % 2 == 0 and m % 2 == 0:\n",
        "    return 'Lose'\n",
        "  else:\n",
        "    return 'Win'"
      ],
      "metadata": {
        "id": "uQoAaFyhMqkX"
      },
      "execution_count": 6,
      "outputs": []
    },
    {
      "cell_type": "code",
      "source": [
        "rocks_game(5,6)"
      ],
      "metadata": {
        "colab": {
          "base_uri": "https://localhost:8080/",
          "height": 36
        },
        "id": "NsPp6JvvMa10",
        "outputId": "76c682b1-efa5-4d2c-e072-f7bd33108bb1"
      },
      "execution_count": 7,
      "outputs": [
        {
          "output_type": "execute_result",
          "data": {
            "text/plain": [
              "'Win'"
            ],
            "application/vnd.google.colaboratory.intrinsic+json": {
              "type": "string"
            }
          },
          "metadata": {},
          "execution_count": 7
        }
      ]
    },
    {
      "cell_type": "markdown",
      "source": [
        "3. Рекрусивное решение"
      ],
      "metadata": {
        "id": "Bf6bFEyvN1qd"
      }
    },
    {
      "cell_type": "markdown",
      "source": [
        "Рекурсивно решаем задачу «перенести башню из n−1 диска на 2-й штырь». Затем переносим самый большой диск на 3-й штырь, и рекурсивно решаем задачу «перенеси башню из n−1 диска на 3-й штырь».\n",
        "\n",
        "Отсюда методом математической индукции заключаем, что минимальное число ходов, необходимое для решения головоломки, равно 2*n − 1, где n — число дисков[2][3].\n",
        "\n",
        "В информатике задачи, основанные на легенде о Ханойской башне, часто рассматривают в качестве примера использования рекурсивных алгоритмов и преобразования их к нерекурсивным."
      ],
      "metadata": {
        "id": "hwxRb3fKQrsU"
      }
    },
    {
      "cell_type": "code",
      "source": [
        "def Hanoi_Tower(n , name1, name2, name3):\n",
        "    if n==1:\n",
        "        print (\"Move disk 1 from L1\",name1,\"to L2\",name2)\n",
        "        return\n",
        "    Hanoi_Tower(n-1, name1, name3, name2)\n",
        "    print (\"Move disk\",n,\"from L1\",name1,\"to L2\",name2)\n",
        "    Hanoi_Tower(n-1, name3, name2, name1)"
      ],
      "metadata": {
        "id": "QVwvOE48XeyI"
      },
      "execution_count": 8,
      "outputs": []
    },
    {
      "cell_type": "code",
      "source": [
        "Hanoi_Tower(4,'A','B','C')"
      ],
      "metadata": {
        "colab": {
          "base_uri": "https://localhost:8080/"
        },
        "id": "KGOclVzGkE0j",
        "outputId": "b17c221a-3368-45fd-9a0f-f04b29b01e9a"
      },
      "execution_count": 9,
      "outputs": [
        {
          "output_type": "stream",
          "name": "stdout",
          "text": [
            "Move disk 1 from L1 A to L2 C\n",
            "Move disk 2 from L1 A to L2 B\n",
            "Move disk 1 from L1 C to L2 B\n",
            "Move disk 3 from L1 A to L2 C\n",
            "Move disk 1 from L1 B to L2 A\n",
            "Move disk 2 from L1 B to L2 C\n",
            "Move disk 1 from L1 A to L2 C\n",
            "Move disk 4 from L1 A to L2 B\n",
            "Move disk 1 from L1 C to L2 B\n",
            "Move disk 2 from L1 C to L2 A\n",
            "Move disk 1 from L1 B to L2 A\n",
            "Move disk 3 from L1 C to L2 B\n",
            "Move disk 1 from L1 A to L2 C\n",
            "Move disk 2 from L1 A to L2 B\n",
            "Move disk 1 from L1 C to L2 B\n"
          ]
        }
      ]
    },
    {
      "cell_type": "markdown",
      "source": [
        "4. Найти объем шара радиусом 1 с цетром (0, 0) методом Монте-Карло на сетке [-1,1]^3, засечь время и точность (1 балл).\n",
        "Найти объем того же шара на некотором усеченном пространстве. Сравнить результаты (2 балла)"
      ],
      "metadata": {
        "id": "v3VZqbAGkRcy"
      }
    },
    {
      "cell_type": "code",
      "source": [
        "import random as r\n",
        "import time as t"
      ],
      "metadata": {
        "id": "vQ5UQl4fy6h3"
      },
      "execution_count": 10,
      "outputs": []
    },
    {
      "cell_type": "code",
      "source": [
        "def monte_carlo_sphere1(n):\n",
        "    count = 0\n",
        "    start_time = t.time()\n",
        "    for i in range(n):\n",
        "        x = r.uniform(-1, 1)\n",
        "        y = r.uniform(-1, 1)\n",
        "        z = r.uniform(-1, 1)\n",
        "        if x**2 + y**2 + z**2 <= 1:\n",
        "            count += 1\n",
        "    end_time = t.time()\n",
        "    timeee = end_time - start_time\n",
        "\n",
        "    print ('Result = ', (count/n)*8, 'Time = ', timeee, 'sec')"
      ],
      "metadata": {
        "id": "Jx1EoEPWy3WY"
      },
      "execution_count": 11,
      "outputs": []
    },
    {
      "cell_type": "code",
      "source": [
        "monte_carlo_sphere1(100000)"
      ],
      "metadata": {
        "colab": {
          "base_uri": "https://localhost:8080/"
        },
        "id": "3WB3VI3HzFaI",
        "outputId": "97c96abb-5851-4fd1-df04-4eeedfbb8a09"
      },
      "execution_count": 37,
      "outputs": [
        {
          "output_type": "stream",
          "name": "stdout",
          "text": [
            "Result =  4.17488 Time =  0.1303720474243164 sec\n"
          ]
        }
      ]
    },
    {
      "cell_type": "code",
      "source": [
        "def monte_carlo_sphere2(n, a, b): # b<0 and a>0 and abs(a), abs(b) < 1\n",
        "    count = 0\n",
        "    start_time = t.time()\n",
        "    for i in range(n):\n",
        "        x = r.uniform(-1+b,1-a)\n",
        "        y = r.uniform(-1+b,1-a)\n",
        "        z = r.uniform(-1+b,1-a)\n",
        "        if x**2 + y**2 + z**2 <= (2-a-b):\n",
        "            count += 1\n",
        "    end_time = t.time()\n",
        "    timeee = end_time - start_time\n",
        "\n",
        "    print ('Result = ', (count/n)*8, 'Time = ', timeee, 'sec')"
      ],
      "metadata": {
        "id": "-Iof_284-vE8"
      },
      "execution_count": 28,
      "outputs": []
    },
    {
      "cell_type": "code",
      "source": [
        "monte_carlo_sphere2(100000, -0.5, 0.5)"
      ],
      "metadata": {
        "colab": {
          "base_uri": "https://localhost:8080/"
        },
        "id": "TwAC-mwl_7yh",
        "outputId": "d26f2cc0-7a92-48b1-cc0d-c5ca30206731"
      },
      "execution_count": 33,
      "outputs": [
        {
          "output_type": "stream",
          "name": "stdout",
          "text": [
            "Result =  4.85712 Time =  0.2779831886291504 sec\n"
          ]
        }
      ]
    }
  ]
}