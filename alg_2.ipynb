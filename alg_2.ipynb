{
  "nbformat": 4,
  "nbformat_minor": 0,
  "metadata": {
    "colab": {
      "provenance": []
    },
    "kernelspec": {
      "name": "python3",
      "display_name": "Python 3"
    },
    "language_info": {
      "name": "python"
    }
  },
  "cells": [
    {
      "cell_type": "markdown",
      "source": [
        "1. На вход массив массивов вида [[start_1, end_1], ..., [start_n, end_n]]. Найти максимальную сумму end_i - start_i такую, что отрезки не пересекаются\n",
        "Реализовать произвольный жадный алгоритм для задачи о переговорках (можно несколько). Покрыть тест-кейсами на успешную/не успешную работу алгоритма.\n",
        "\n",
        "3 балла: успешное решение жадным алгоритмом\n",
        "\n",
        "2 балла: решение покрытое тест-кейсами для успешной и не успешной работы\n",
        "\n",
        "1 балл: решение просто с какими-то тестами"
      ],
      "metadata": {
        "id": "ptM2s2TPzNEC"
      }
    },
    {
      "cell_type": "code",
      "source": [
        "def greedy_negotiations(meets_t):\n",
        "    accepted = []\n",
        "    meets_t = sorted(meets_t, key=lambda x: x[1])\n",
        "    accepted.append(meets_t.pop(0))\n",
        "    for miting in meets_t:\n",
        "        if miting[0] >= accepted[-1][1]:\n",
        "            accepted.append(miting)\n",
        "    return accepted"
      ],
      "metadata": {
        "id": "XfwdemDWzQ7U"
      },
      "execution_count": 4,
      "outputs": []
    },
    {
      "cell_type": "code",
      "source": [
        "s = {(5, 2), (4, 10), (3, 1), (4, 5), (2, 2)}"
      ],
      "metadata": {
        "id": "H5ENFU9sxDRB"
      },
      "execution_count": 7,
      "outputs": []
    },
    {
      "cell_type": "code",
      "source": [
        "greedy_negotiations(s)"
      ],
      "metadata": {
        "colab": {
          "base_uri": "https://localhost:8080/"
        },
        "id": "UUSmgUCpwzJY",
        "outputId": "c321b562-4dbd-4c81-eb3f-0b4b2eec1273"
      },
      "execution_count": 9,
      "outputs": [
        {
          "output_type": "execute_result",
          "data": {
            "text/plain": [
              "[(3, 1), (2, 2), (5, 2), (4, 5)]"
            ]
          },
          "metadata": {},
          "execution_count": 9
        }
      ]
    },
    {
      "cell_type": "markdown",
      "source": [
        "2. Задача о камнях (Динамическое программирование)"
      ],
      "metadata": {
        "id": "8Hz3iT9Q-oeC"
      }
    },
    {
      "cell_type": "code",
      "source": [
        "def rocks_game(n, m):\n",
        "  if n % 2 == 0 and m % 2 == 0:\n",
        "    return 'Lose'\n",
        "  else:\n",
        "    return 'Win'"
      ],
      "metadata": {
        "id": "uQoAaFyhMqkX"
      },
      "execution_count": 10,
      "outputs": []
    },
    {
      "cell_type": "code",
      "source": [
        "rocks_game(5,6)"
      ],
      "metadata": {
        "colab": {
          "base_uri": "https://localhost:8080/",
          "height": 36
        },
        "id": "NsPp6JvvMa10",
        "outputId": "fbccb397-eb86-4b9e-dc9c-5380b0235b11"
      },
      "execution_count": 11,
      "outputs": [
        {
          "output_type": "execute_result",
          "data": {
            "text/plain": [
              "'Win'"
            ],
            "application/vnd.google.colaboratory.intrinsic+json": {
              "type": "string"
            }
          },
          "metadata": {},
          "execution_count": 11
        }
      ]
    },
    {
      "cell_type": "code",
      "source": [
        "def greedy_negotiations(mitings_times):\n",
        "    approved_time = []\n",
        "    mitings_times = sorted(mitings_times, key=lambda x: x[1])\n",
        "    approved_time.append(mitings_times.pop(0))\n",
        "    for miting in mitings_times:\n",
        "        if miting[0] >= approved_time[-1][1]:\n",
        "            approved_time.append(miting)\n",
        "    return approved_time"
      ],
      "metadata": {
        "id": "L5QenWHtkS_U"
      },
      "execution_count": 12,
      "outputs": []
    },
    {
      "cell_type": "markdown",
      "source": [
        "3. Рекрусивное решение"
      ],
      "metadata": {
        "id": "Bf6bFEyvN1qd"
      }
    },
    {
      "cell_type": "markdown",
      "source": [
        "Рекурсивно решаем задачу «перенести башню из n−1 диска на 2-й штырь». Затем переносим самый большой диск на 3-й штырь, и рекурсивно решаем задачу «перенеси башню из n−1 диска на 3-й штырь».\n",
        "\n",
        "Отсюда методом математической индукции заключаем, что минимальное число ходов, необходимое для решения головоломки, равно 2*n − 1, где n — число дисков[2][3].\n",
        "\n",
        "В информатике задачи, основанные на легенде о Ханойской башне, часто рассматривают в качестве примера использования рекурсивных алгоритмов и преобразования их к нерекурсивным."
      ],
      "metadata": {
        "id": "hwxRb3fKQrsU"
      }
    },
    {
      "cell_type": "code",
      "source": [
        "def Hanoi_Tower(n , name1, name2, name3):\n",
        "    if n==1:\n",
        "        print (\"Move disk 1 from L1\",name1,\"to L2\",name2)\n",
        "        return\n",
        "    Hanoi_Tower(n-1, name1, name3, name2)\n",
        "    print (\"Move disk\",n,\"from L1\",name1,\"to L2\",name2)\n",
        "    Hanoi_Tower(n-1, name3, name2, name1)"
      ],
      "metadata": {
        "id": "QVwvOE48XeyI"
      },
      "execution_count": 13,
      "outputs": []
    },
    {
      "cell_type": "code",
      "source": [
        "Hanoi_Tower(4,'A','B','C')"
      ],
      "metadata": {
        "colab": {
          "base_uri": "https://localhost:8080/"
        },
        "id": "KGOclVzGkE0j",
        "outputId": "fad242af-7b10-42e6-e9ab-fdb543ad8c25"
      },
      "execution_count": 14,
      "outputs": [
        {
          "output_type": "stream",
          "name": "stdout",
          "text": [
            "Move disk 1 from L1 A to L2 C\n",
            "Move disk 2 from L1 A to L2 B\n",
            "Move disk 1 from L1 C to L2 B\n",
            "Move disk 3 from L1 A to L2 C\n",
            "Move disk 1 from L1 B to L2 A\n",
            "Move disk 2 from L1 B to L2 C\n",
            "Move disk 1 from L1 A to L2 C\n",
            "Move disk 4 from L1 A to L2 B\n",
            "Move disk 1 from L1 C to L2 B\n",
            "Move disk 2 from L1 C to L2 A\n",
            "Move disk 1 from L1 B to L2 A\n",
            "Move disk 3 from L1 C to L2 B\n",
            "Move disk 1 from L1 A to L2 C\n",
            "Move disk 2 from L1 A to L2 B\n",
            "Move disk 1 from L1 C to L2 B\n"
          ]
        }
      ]
    },
    {
      "cell_type": "markdown",
      "source": [
        "4. Найти объем шара радиусом 1 с цетром (0, 0) методом Монте-Карло на сетке [-1,1]^3, засечь время и точность (1 балл).\n"
      ],
      "metadata": {
        "id": "v3VZqbAGkRcy"
      }
    },
    {
      "cell_type": "code",
      "source": [
        "import random as r\n",
        "import time as t"
      ],
      "metadata": {
        "id": "vQ5UQl4fy6h3"
      },
      "execution_count": 15,
      "outputs": []
    },
    {
      "cell_type": "code",
      "source": [
        "def monte_carlo_sphere1(n):\n",
        "    count = 0\n",
        "    start_time = t.time()\n",
        "    for i in range(n):\n",
        "        x = r.uniform(-1, 1)\n",
        "        y = r.uniform(-1, 1)\n",
        "        z = r.uniform(-1, 1)\n",
        "        if x**2 + y**2 + z**2 <= 1:\n",
        "            count += 1\n",
        "    end_time = t.time()\n",
        "    timeee = end_time - start_time\n",
        "\n",
        "    print ('Result = ', (count/n)*8, 'Time = ', timeee, 'sec')"
      ],
      "metadata": {
        "id": "Jx1EoEPWy3WY"
      },
      "execution_count": 16,
      "outputs": []
    },
    {
      "cell_type": "code",
      "source": [
        "monte_carlo_sphere1(100000)"
      ],
      "metadata": {
        "colab": {
          "base_uri": "https://localhost:8080/"
        },
        "id": "3WB3VI3HzFaI",
        "outputId": "1d5f445c-8723-4551-fcf5-eccad59cdb5b"
      },
      "execution_count": 17,
      "outputs": [
        {
          "output_type": "stream",
          "name": "stdout",
          "text": [
            "Result =  4.20496 Time =  0.14744925498962402 sec\n"
          ]
        }
      ]
    },
    {
      "cell_type": "markdown",
      "source": [
        "4.2 Найти объем того же шара на некотором усеченном пространстве. Сравнить результаты (2 балла)"
      ],
      "metadata": {
        "id": "tKnpN-X6xctK"
      }
    },
    {
      "cell_type": "code",
      "source": [
        "#Добавлю позже. Усеченное пространство - ???"
      ],
      "metadata": {
        "id": "5gnuWZhDxf7Q"
      },
      "execution_count": null,
      "outputs": []
    }
  ]
}