{
  "nbformat": 4,
  "nbformat_minor": 0,
  "metadata": {
    "colab": {
      "provenance": []
    },
    "kernelspec": {
      "name": "python3",
      "display_name": "Python 3"
    },
    "language_info": {
      "name": "python"
    }
  },
  "cells": [
    {
      "cell_type": "markdown",
      "source": [
        "1. Необходимо реализовать очередь c приоритетом со всеми методами (3 балла)"
      ],
      "metadata": {
        "id": "mtMv0NQM5A2T"
      }
    },
    {
      "cell_type": "code",
      "source": [
        "import heapq"
      ],
      "metadata": {
        "id": "ovh-HQw_zrUm"
      },
      "execution_count": 1,
      "outputs": []
    },
    {
      "cell_type": "code",
      "source": [
        "class Priority_FIFO:\n",
        "    def __init__(self):\n",
        "        self._queue = []\n",
        "        self._index = 0\n",
        "\n",
        "    def push(self, item, priority):\n",
        "        heapq.heappush(self._queue, (priority, self._index, item))\n",
        "        self._index += 1\n",
        "\n",
        "    def pop(self):\n",
        "        return heapq.heappop(self._queue)[-1]\n",
        "\n",
        "    def empty(self):\n",
        "        return len(self._queue) == 0"
      ],
      "metadata": {
        "id": "0DO26Xz35CH8"
      },
      "execution_count": 3,
      "outputs": []
    },
    {
      "cell_type": "code",
      "source": [
        "f = Priority_FIFO()\n",
        "\n",
        "f.push('рыбка', 3)\n",
        "f.push('кошка', 2)\n",
        "f.push('собака', 1)\n",
        "\n",
        "# Извлекаем задачи из очереди\n",
        "while not f.empty():\n",
        "    task = f.pop()\n",
        "    print(task)"
      ],
      "metadata": {
        "colab": {
          "base_uri": "https://localhost:8080/"
        },
        "id": "usJO2fY0zu5V",
        "outputId": "4add3fd7-5141-488d-87cf-494f50cec326"
      },
      "execution_count": 6,
      "outputs": [
        {
          "output_type": "stream",
          "name": "stdout",
          "text": [
            "собака\n",
            "кошка\n",
            "рыбка\n"
          ]
        }
      ]
    },
    {
      "cell_type": "markdown",
      "source": [
        "2. Необходимо найти максимальное произведение соседей в массиве, если несколько одинаковых результатов, то не обходимо выбрать с наименьшим множителем  (2 балла)"
      ],
      "metadata": {
        "id": "L3ffPNqwweZB"
      }
    },
    {
      "cell_type": "code",
      "execution_count": 7,
      "metadata": {
        "id": "UvD7DOCCv-Gd"
      },
      "outputs": [],
      "source": [
        "def find_max(a):\n",
        "  max_proiz = 0\n",
        "  max_pair = []\n",
        "  for i in range(len(a)-1):\n",
        "    proiz= a[i] * a[i+1]\n",
        "    if proiz > max_proiz:\n",
        "      max_proiz = proiz\n",
        "      max_pair = [a[i], a[i+1]]\n",
        "    elif proiz == max_proiz:\n",
        "        min1 = min(max_pair[0], max_pair[1])\n",
        "        min2 = min(a[0], a[1])\n",
        "        if min2 < min1:\n",
        "        # if a[i] < max_pair[0]:\n",
        "          max_pair = [a[i], a[i+1]]\n",
        "\n",
        "  print(\"Произведение =\", max_proiz, \"Элементы:\", max_pair[0], \"и\", max_pair[1])"
      ]
    },
    {
      "cell_type": "code",
      "source": [
        "arr = [1,2,3,4,5,2,4,5,6,1,15,2]"
      ],
      "metadata": {
        "id": "KIU19sOs07l0"
      },
      "execution_count": 8,
      "outputs": []
    },
    {
      "cell_type": "code",
      "source": [
        "find_max(arr)"
      ],
      "metadata": {
        "colab": {
          "base_uri": "https://localhost:8080/"
        },
        "id": "20jHr8hU1WoS",
        "outputId": "eb16ee52-4834-4783-e66a-1dd4037621ec"
      },
      "execution_count": 10,
      "outputs": [
        {
          "output_type": "stream",
          "name": "stdout",
          "text": [
            "Произведение = 30 Элементы: 15 и 2\n"
          ]
        }
      ]
    }
  ]
}